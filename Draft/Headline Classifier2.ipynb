{
 "cells": [
  {
   "cell_type": "code",
   "execution_count": 1,
   "metadata": {},
   "outputs": [
    {
     "name": "stdout",
     "output_type": "stream",
     "text": [
      "Cloning into 'generating-reviews-discovering-sentiment'...\n",
      "remote: Counting objects: 59, done.\u001b[K\n",
      "remote: Total 59 (delta 0), reused 0 (delta 0), pack-reused 59\u001b[K\n",
      "Unpacking objects: 100% (59/59), done.\n"
     ]
    }
   ],
   "source": [
    "# set up Sentiment Neuron created by Elon Musk's OpenAI\n",
    "# about 670MB of trained data\n",
    "# 92% accuracy\n",
    "!git clone https://github.com/openai/generating-reviews-discovering-sentiment.git"
   ]
  },
  {
   "cell_type": "code",
   "execution_count": 11,
   "metadata": {},
   "outputs": [
    {
     "name": "stdout",
     "output_type": "stream",
     "text": [
      "[Errno 2] No such file or directory: 'generating-reviews-discovering-sentiment'\n",
      "/Users/YangLiu/Desktop/COGS108/Project/generating-reviews-discovering-sentiment\n",
      "Requirement already satisfied: tqdm in /Users/YangLiu/anaconda3/lib/python3.6/site-packages\n",
      "\u001b[33mYou are using pip version 9.0.1, however version 9.0.2 is available.\n",
      "You should consider upgrading via the 'pip install --upgrade pip' command.\u001b[0m\n",
      "Collecting tensorflow==1.2.0\n",
      "  Downloading tensorflow-1.2.0-cp36-cp36m-macosx_10_11_x86_64.whl (34.1MB)\n",
      "\u001b[K    100% |████████████████████████████████| 34.1MB 43kB/s  eta 0:00:01  7% |██▍                             | 2.5MB 22.0MB/s eta 0:00:02    55% |██████████████████              | 19.1MB 16.5MB/s eta 0:00:01    70% |██████████████████████▋         | 24.1MB 57.2MB/s eta 0:00:01\n",
      "\u001b[?25hCollecting protobuf>=3.2.0 (from tensorflow==1.2.0)\n",
      "  Downloading protobuf-3.5.2.post1-cp36-cp36m-macosx_10_6_intel.macosx_10_9_intel.macosx_10_9_x86_64.macosx_10_10_intel.macosx_10_10_x86_64.whl (1.2MB)\n",
      "\u001b[K    100% |████████████████████████████████| 1.2MB 1.1MB/s eta 0:00:01\n",
      "\u001b[?25hCollecting html5lib==0.9999999 (from tensorflow==1.2.0)\n",
      "  Downloading html5lib-0.9999999.tar.gz (889kB)\n",
      "\u001b[K    100% |████████████████████████████████| 890kB 1.6MB/s eta 0:00:01\n",
      "\u001b[?25hCollecting wheel>=0.26 (from tensorflow==1.2.0)\n",
      "  Downloading wheel-0.30.0-py2.py3-none-any.whl (49kB)\n",
      "\u001b[K    100% |████████████████████████████████| 51kB 7.0MB/s eta 0:00:01\n",
      "\u001b[?25hCollecting markdown==2.2.0 (from tensorflow==1.2.0)\n",
      "  Downloading Markdown-2.2.0.tar.gz (236kB)\n",
      "\u001b[K    100% |████████████████████████████████| 245kB 3.9MB/s eta 0:00:01\n",
      "\u001b[?25hCollecting six>=1.10.0 (from tensorflow==1.2.0)\n",
      "  Using cached six-1.11.0-py2.py3-none-any.whl\n",
      "Collecting bleach==1.5.0 (from tensorflow==1.2.0)\n",
      "  Downloading bleach-1.5.0-py2.py3-none-any.whl\n",
      "Collecting backports.weakref==1.0rc1 (from tensorflow==1.2.0)\n",
      "  Downloading backports.weakref-1.0rc1-py3-none-any.whl\n",
      "Collecting werkzeug>=0.11.10 (from tensorflow==1.2.0)\n",
      "  Downloading Werkzeug-0.14.1-py2.py3-none-any.whl (322kB)\n",
      "\u001b[K    100% |████████████████████████████████| 327kB 3.1MB/s eta 0:00:01\n",
      "\u001b[?25hCollecting numpy>=1.11.0 (from tensorflow==1.2.0)\n",
      "  Downloading numpy-1.14.2-cp36-cp36m-macosx_10_6_intel.macosx_10_9_intel.macosx_10_9_x86_64.macosx_10_10_intel.macosx_10_10_x86_64.whl (4.7MB)\n",
      "\u001b[K    100% |████████████████████████████████| 4.7MB 295kB/s eta 0:00:01\n",
      "\u001b[?25hCollecting setuptools (from protobuf>=3.2.0->tensorflow==1.2.0)\n",
      "  Downloading setuptools-39.0.1-py2.py3-none-any.whl (569kB)\n",
      "\u001b[K    100% |████████████████████████████████| 573kB 2.3MB/s eta 0:00:01\n",
      "\u001b[?25hBuilding wheels for collected packages: html5lib, markdown\n",
      "  Running setup.py bdist_wheel for html5lib ... \u001b[?25ldone\n",
      "\u001b[?25h  Stored in directory: /Users/YangLiu/Library/Caches/pip/wheels/6f/85/6c/56b8e1292c6214c4eb73b9dda50f53e8e977bf65989373c962\n",
      "  Running setup.py bdist_wheel for markdown ... \u001b[?25ldone\n",
      "\u001b[?25h  Stored in directory: /Users/YangLiu/Library/Caches/pip/wheels/b9/4f/6c/f4c1c5207c1d0eeaaf7005f7f736620c6ded6617c9d9b94096\n",
      "Successfully built html5lib markdown\n",
      "Installing collected packages: six, setuptools, protobuf, html5lib, wheel, markdown, bleach, backports.weakref, werkzeug, numpy, tensorflow\n",
      "Successfully installed backports.weakref-1.0rc1 bleach-2.0.0 html5lib-0.999999999 markdown-2.2.0 numpy-1.14.2 protobuf-3.5.2.post1 setuptools-39.0.1 six-1.11.0 tensorflow-1.2.0 werkzeug-0.14.1 wheel-0.30.0\n",
      "\u001b[33mYou are using pip version 9.0.1, however version 9.0.2 is available.\n",
      "You should consider upgrading via the 'pip install --upgrade pip' command.\u001b[0m\n"
     ]
    }
   ],
   "source": [
    "%cd generating-reviews-discovering-sentiment\n",
    "!pip install tqdm --ignore-installed\n",
    "!pip install tensorflow==1.2.0 --ignore-installed"
   ]
  },
  {
   "cell_type": "code",
   "execution_count": 34,
   "metadata": {
    "collapsed": true
   },
   "outputs": [],
   "source": [
    "import json \n",
    "import pandas as pd\n",
    "import numpy as np"
   ]
  },
  {
   "cell_type": "code",
   "execution_count": 17,
   "metadata": {
    "collapsed": true
   },
   "outputs": [],
   "source": [
    "df = pd.read_json(\"../Amazon_8000_news.json\")"
   ]
  },
  {
   "cell_type": "code",
   "execution_count": 12,
   "metadata": {
    "collapsed": true
   },
   "outputs": [],
   "source": [
    "from encoder import Model\n",
    "model = Model()"
   ]
  },
  {
   "cell_type": "code",
   "execution_count": 18,
   "metadata": {},
   "outputs": [
    {
     "data": {
      "text/plain": [
       "0                        Goldilocks, R. I. P. (Part 3)\n",
       "1    Walmart's Grocery Efforts Probably Aren't Enou...\n",
       "2    'Exhausted' Toys 'R' Us suppliers weigh option...\n",
       "3    Toys R Us built a kingdom and the world's bigg...\n",
       "4    Berkshire says median employee makes over half...\n",
       "5    Can Amazon (AMZN) Justify Its Stock's Sky-High...\n",
       "6    Amazon is hiring a former FDA official to work...\n",
       "7    Apple Supply Chain Checks Point To Disappointi...\n",
       "8    Electronic Arts Stock Flirts With Buy Point, R...\n",
       "9    Rally ends for stocks in U.S. retailers; inves...\n",
       "Name: Headline, dtype: object"
      ]
     },
     "execution_count": 18,
     "metadata": {},
     "output_type": "execute_result"
    }
   ],
   "source": []
  },
  {
   "cell_type": "code",
   "execution_count": 24,
   "metadata": {},
   "outputs": [
    {
     "name": "stdout",
     "output_type": "stream",
     "text": [
      "227.081 seconds to transform 500 examples\n"
     ]
    }
   ],
   "source": [
    "first_500_text_features = model.transform(df['Headline'].sort_index()[:500]) "
   ]
  },
  {
   "cell_type": "code",
   "execution_count": 28,
   "metadata": {},
   "outputs": [
    {
     "data": {
      "text/plain": [
       "array([  1.17647409e-01,  -2.00661868e-01,  -7.90531933e-03,\n",
       "        -2.35216618e-01,  -7.82919452e-02,   6.72450587e-02,\n",
       "        -5.89197651e-02,  -2.11253315e-01,   1.46777749e-01,\n",
       "         4.50177826e-02,   7.53142089e-02,   7.76238665e-02,\n",
       "         9.52886790e-03,   1.14741653e-01,   1.24652147e-01,\n",
       "         5.99950142e-02,   2.12221026e-01,   2.25293785e-02,\n",
       "         3.13854486e-01,   1.13533281e-01,   1.15740210e-01,\n",
       "         3.05611283e-01,  -1.42517602e-02,   7.12179989e-02,\n",
       "        -2.77720504e-02,   5.39854355e-02,   1.74032757e-03,\n",
       "         3.81328791e-01,   1.39981717e-01,   3.01844597e-01,\n",
       "         2.27580205e-01,   1.00286312e-01,  -4.99809533e-01,\n",
       "        -1.36592492e-01,   9.37731750e-03,  -1.54071115e-02,\n",
       "         2.23484367e-01,  -1.97854668e-01,  -5.05103707e-01,\n",
       "        -7.59396255e-02,   1.64832026e-01,  -1.56717658e-01,\n",
       "         1.75920859e-01,   3.72247994e-01,  -5.07078886e-01,\n",
       "        -4.60364074e-01,  -1.70917287e-01,  -2.08651125e-02,\n",
       "        -2.27102995e-01,  -1.61354527e-01,  -2.05936998e-01,\n",
       "        -2.90502280e-01,  -5.32320812e-02,   2.46363342e-01,\n",
       "        -4.04531151e-01,  -3.44319105e-01,   1.92997642e-02,\n",
       "         7.81737641e-02,  -3.37260038e-01,   4.54108864e-01,\n",
       "         1.63509175e-02,  -3.23247835e-02,  -1.53967008e-01,\n",
       "         4.31743711e-01,  -2.10434236e-02,  -4.21961278e-01,\n",
       "        -2.62170941e-01,   5.03555238e-02,   9.48154181e-02,\n",
       "        -4.21349674e-01,   1.47741616e-01,  -7.85533637e-02,\n",
       "        -4.04935814e-02,   1.56016618e-01,  -1.00781552e-01,\n",
       "        -1.52968407e-01,   9.07881111e-02,   1.67157024e-01,\n",
       "         1.90883577e-01,  -4.14029151e-01,  -9.97061506e-02,\n",
       "        -8.77370387e-02,  -3.75214517e-01,   2.22338713e-03,\n",
       "        -2.24548712e-01,   2.34336212e-01,  -3.41789611e-02,\n",
       "         8.38397816e-02,  -4.12606210e-01,   1.35477185e-01,\n",
       "         9.40487385e-02,  -1.18519187e-01,   1.06634960e-01,\n",
       "        -4.38604236e-01,   3.25474516e-02,  -2.36412197e-01,\n",
       "        -1.86328739e-01,  -1.92068100e-01,  -4.07608859e-02,\n",
       "         2.40002528e-01,  -6.10893257e-02,  -3.30655165e-02,\n",
       "         1.22492060e-01,   1.66834831e-01,   1.13031492e-01,\n",
       "         2.20045120e-01,   8.38397816e-02,  -4.03768234e-02,\n",
       "         6.18789308e-02,   3.82052138e-02,   2.03790605e-01,\n",
       "         4.14258897e-01,  -1.81235671e-01,   1.44008383e-01,\n",
       "         2.45678812e-01,   1.71565622e-01,  -8.05418342e-02,\n",
       "        -2.16138974e-01,   2.80540884e-01,   1.97633319e-02,\n",
       "         2.02528164e-01,  -1.58528447e-01,  -1.12542860e-01,\n",
       "        -3.37931186e-01,  -6.85391277e-02,  -2.29050547e-01,\n",
       "        -1.10330470e-01,  -1.31092548e-01,  -9.41919461e-02,\n",
       "         1.75569788e-01,   1.01299845e-01,   1.15944996e-01,\n",
       "         7.31306747e-02,  -7.33580217e-02,   1.87423617e-01,\n",
       "         2.75960863e-02,  -2.77415305e-01,  -2.70046145e-01,\n",
       "        -1.59672394e-01,   3.18931192e-01,   3.65512855e-02,\n",
       "         1.70552462e-01,  -2.56863862e-01,  -5.72173968e-02,\n",
       "        -1.02616914e-01,   5.72320372e-02,  -2.60701645e-02,\n",
       "         9.50281918e-02,   3.37891370e-01,   5.54189086e-01,\n",
       "         9.58758816e-02,   3.34739029e-01,   4.47756127e-02,\n",
       "         2.23298483e-02,   1.23540364e-01,  -2.38437146e-01,\n",
       "         3.20737779e-01,  -4.74044502e-01,   3.39459866e-01,\n",
       "         6.17755949e-02,   1.05412088e-01,  -2.26129621e-01,\n",
       "         1.52239174e-01,  -6.30531013e-02,   6.84295222e-02,\n",
       "        -2.15878814e-01,   2.74721801e-01,  -2.04497904e-01,\n",
       "         9.49658081e-02,   3.57407004e-01,   3.57407004e-01,\n",
       "        -4.97719854e-01,   6.93628043e-02,   1.26104727e-01,\n",
       "        -2.98079848e-03,   2.67001092e-01,  -2.48493284e-01,\n",
       "         1.31343499e-01,  -2.29720831e-01,   2.02034369e-01,\n",
       "        -2.96339631e-01,  -5.12977466e-02,   2.46029884e-01,\n",
       "         1.96566671e-01,  -8.81685019e-02,  -5.40169537e-01,\n",
       "        -2.94858724e-01,  -1.06148228e-01,   1.42714143e-01,\n",
       "         1.77595224e-02,  -1.70892775e-01,  -1.15869017e-02,\n",
       "        -2.80413389e-01,   4.57238048e-01,  -3.19953971e-02,\n",
       "        -1.28598344e-02,  -2.42493767e-03,   6.17367625e-02,\n",
       "        -1.56780094e-01,   2.11354852e-01,  -7.07229376e-02,\n",
       "         8.44300687e-02,   1.99503958e-01,   2.90144980e-02,\n",
       "         2.50832476e-02,  -2.91283369e-01,   4.20644507e-03,\n",
       "        -6.52612373e-03,  -2.03217044e-01,   2.60332972e-01,\n",
       "         1.41867265e-01,  -7.52640516e-02,  -1.20758109e-01,\n",
       "         1.49453700e-01,  -6.40634894e-02,   1.90970510e-01,\n",
       "         8.60462561e-02,  -2.10588083e-01,  -4.44598496e-03,\n",
       "         5.89354858e-02,  -2.91938689e-02,  -1.25825346e-01,\n",
       "         3.71612310e-02,   2.60332972e-01,   4.01307553e-01,\n",
       "        -3.81949395e-02,   1.70773774e-01,   4.91306409e-02,\n",
       "        -6.77416921e-02,   1.26140490e-02,  -9.86466706e-02,\n",
       "        -6.51328340e-02,  -2.41791546e-01,  -4.36381042e-01,\n",
       "        -3.11504781e-01,  -4.85461622e-01,   1.08670056e-01,\n",
       "         1.56598002e-01,   4.74354178e-02,   2.05213428e-01,\n",
       "         1.19977243e-01,   1.31752431e-01,  -1.81692895e-02,\n",
       "         1.04617581e-01,   1.45325243e-01,   2.11564571e-01,\n",
       "        -1.19598694e-01,   2.36662924e-02,   2.83036262e-01,\n",
       "         4.95188504e-01,   6.20496571e-01,   8.94284174e-02,\n",
       "        -1.29095495e-01,   6.93913624e-02,  -2.25919392e-02,\n",
       "         3.59270759e-02,  -6.48388043e-02,  -5.42375445e-02,\n",
       "         2.60210037e-02,   3.07722747e-01,   1.85492232e-01,\n",
       "         8.68818238e-02,  -4.85519692e-02,  -1.29325256e-01,\n",
       "         1.68976262e-01,   3.86382490e-01,   2.70002961e-01,\n",
       "        -8.07345137e-02,  -2.27036133e-01,   1.72911268e-02,\n",
       "        -1.06693320e-02,   1.91110820e-01,  -1.45983800e-01,\n",
       "         2.22122207e-01,   3.47525954e-01,  -3.33075449e-02,\n",
       "         2.88180023e-01,   1.52148366e-01,  -2.75353283e-01,\n",
       "         1.00330554e-01,   3.02028991e-02,   3.25824708e-01,\n",
       "        -1.04977727e-01,  -3.16801667e-02,  -2.02017695e-01,\n",
       "        -2.33490877e-02,  -1.86360583e-01,  -4.33089305e-03,\n",
       "         1.58333763e-01,   6.76788166e-02,   7.23671019e-02,\n",
       "        -2.15138346e-01,   3.31316032e-02,  -7.21380934e-02,\n",
       "        -1.59658566e-01,  -5.14977813e-01,   9.72831100e-02,\n",
       "        -3.89559567e-02,   1.76359713e-01,   1.62861615e-01,\n",
       "        -6.77835271e-02,  -1.82954863e-01,   4.36421722e-01,\n",
       "         1.31869227e-01,   1.02908790e-01,  -3.25948894e-02,\n",
       "         3.20547551e-01,   1.79201573e-01,  -9.68132913e-02,\n",
       "         9.98927355e-02,   3.60543668e-01,   1.90243587e-01,\n",
       "         4.02855165e-02,   1.26561671e-01,   2.56413110e-02,\n",
       "         8.07068944e-01,   7.76841491e-02,  -2.23418772e-01,\n",
       "        -2.57667601e-01,   9.29312557e-02,   6.13700934e-02,\n",
       "        -1.19823784e-01,  -1.77161917e-01,   7.43665397e-02,\n",
       "        -2.46693820e-01,   3.30014706e-01,  -1.21829845e-01,\n",
       "        -1.03653148e-01,   8.74331445e-02,   1.30326405e-01,\n",
       "        -4.92195785e-01,   1.63907677e-01,   3.32313357e-04,\n",
       "         5.85406125e-01,  -2.27643520e-01,  -6.15597069e-01,\n",
       "        -4.88408148e-01,   1.78786844e-01,   8.74331445e-02,\n",
       "        -1.03604803e-02,  -6.29019216e-02,   1.39099002e-01,\n",
       "        -2.37134442e-01,  -7.48457089e-02,  -2.79876888e-01,\n",
       "         3.34928222e-02,   9.50664133e-02,   2.24531099e-01,\n",
       "        -1.87314495e-01,  -1.45846859e-01,  -9.25882533e-02,\n",
       "         1.00698300e-01,  -2.01858670e-01,   1.46915376e-01,\n",
       "         1.00903608e-01,   5.18315077e-01,   1.92237496e-01,\n",
       "         1.62952140e-01,   3.62303630e-02,   9.29894596e-02,\n",
       "         1.07779287e-01,   1.36185795e-01,   1.14803337e-01,\n",
       "         1.02354348e-01,   1.38940588e-01,  -1.39268294e-01,\n",
       "         1.47857275e-02,   2.85146892e-01,   2.02291667e-01,\n",
       "        -1.46963954e-01,  -2.79784679e-01,  -2.36325413e-01,\n",
       "        -1.56899706e-01,  -2.04775378e-01,   1.74800664e-01,\n",
       "         8.90984237e-02,   2.04852715e-01,  -2.00455636e-01,\n",
       "        -1.88030839e-01,   2.39755198e-01,   2.48860061e-01,\n",
       "         1.50128260e-01,   4.11789641e-02,   1.12695985e-01,\n",
       "        -7.62899339e-01,   4.88150977e-02,   2.03624964e-01,\n",
       "        -1.37855839e-02,  -1.13743460e-02,  -3.29082161e-02,\n",
       "         1.62098646e-01,   1.73100039e-01,   5.24661839e-02,\n",
       "         2.63064448e-02,  -3.26468050e-01,   4.36435528e-02,\n",
       "         7.48934597e-02,   3.15483585e-02,   2.20304579e-01,\n",
       "        -4.21840370e-01,   9.71527696e-02,   4.54607867e-02,\n",
       "         1.51342243e-01,  -1.68938860e-01,   1.18567377e-01,\n",
       "         1.39349416e-01,   1.20488927e-01,   6.55230731e-02,\n",
       "        -1.04051135e-01,  -3.05886120e-01,  -1.91275090e-01,\n",
       "        -2.99450636e-01,  -2.32228652e-01,   3.71143706e-02,\n",
       "         3.62033010e-01,   4.11361635e-01,   9.90856886e-02,\n",
       "         6.35707006e-02,  -2.29734510e-01,  -1.73773229e-01,\n",
       "        -2.95269400e-01,   1.57903239e-01,  -9.10209119e-02,\n",
       "        -5.16485095e-01,  -3.83636832e-01,  -1.20251931e-01,\n",
       "         3.68773699e-01,   1.45853266e-01,  -1.78198561e-01,\n",
       "        -4.02213454e-01,  -4.50552329e-02,   1.51879534e-01,\n",
       "        -1.60102859e-01,   7.92841762e-02,  -4.04485017e-01,\n",
       "         1.58578619e-01,   2.80892819e-01,   1.30278198e-02,\n",
       "         3.56380165e-01,   6.76149547e-01,  -1.62348598e-01,\n",
       "        -5.87017536e-01,   1.29117578e-01,   2.21740901e-01,\n",
       "         2.75791079e-01,  -4.07127403e-02,  -3.16805780e-01,\n",
       "        -9.52826366e-02,   2.11185753e-01,  -5.09609640e-01,\n",
       "         3.03246319e-01,  -9.46589187e-03,   3.72174561e-01,\n",
       "        -3.75186175e-01,   1.31814182e-03,  -1.28183722e-01,\n",
       "         1.79522991e-01,   1.79522991e-01,  -6.99999854e-02,\n",
       "        -2.02469900e-01,   3.57442647e-02,  -3.74887317e-01,\n",
       "        -3.27287823e-01,   2.91186601e-01,   1.52577400e-01,\n",
       "         7.59638622e-02,  -1.33463964e-01,   3.19029033e-01,\n",
       "         2.18657516e-02,  -9.63971540e-02,   2.73334920e-01,\n",
       "         3.08674246e-01,  -9.89596546e-02,   1.58231795e-01,\n",
       "         1.95926607e-01,   5.54057471e-02,   8.28222036e-02,\n",
       "        -1.59608111e-01,  -3.63725573e-02,   1.15490325e-01,\n",
       "         1.39167726e-01,  -1.75346695e-02,   6.26870478e-03,\n",
       "        -2.05537036e-01,  -5.33591270e-01,  -6.35089129e-02,\n",
       "         1.34378433e-01,   2.06008554e-01,   3.22683394e-01,\n",
       "         4.93957661e-03,   2.34879151e-01,  -7.97354579e-02,\n",
       "         2.07296133e-01,  -3.26077491e-01,  -8.56245533e-02,\n",
       "         3.68973285e-01,   3.18632349e-02,   8.37031975e-02,\n",
       "         3.12858149e-02,  -6.60586804e-02], dtype=float32)"
      ]
     },
     "execution_count": 28,
     "metadata": {},
     "output_type": "execute_result"
    }
   ],
   "source": [
    "# It took about \n",
    "#df['sentiment'] = text_features[:, 2388]\n",
    "first_500_text_features[:, 2388]"
   ]
  },
  {
   "cell_type": "code",
   "execution_count": 29,
   "metadata": {},
   "outputs": [
    {
     "name": "stdout",
     "output_type": "stream",
     "text": [
      "1007.775 seconds to transform 2000 examples\n"
     ]
    }
   ],
   "source": [
    "next_2000_text_features = model.transform(df['Headline'].sort_index()[500:2500]) "
   ]
  },
  {
   "cell_type": "code",
   "execution_count": 36,
   "metadata": {},
   "outputs": [
    {
     "data": {
      "text/plain": [
       "2500"
      ]
     },
     "execution_count": 36,
     "metadata": {},
     "output_type": "execute_result"
    }
   ],
   "source": [
    "freq_df = np.concatenate(( first_500_text_features[:, 2388],next_2000_text_features[:, 2388]))\n",
    "len(freq_df)"
   ]
  },
  {
   "cell_type": "code",
   "execution_count": 37,
   "metadata": {},
   "outputs": [
    {
     "name": "stdout",
     "output_type": "stream",
     "text": [
      "1034.734 seconds to transform 2000 examples\n"
     ]
    }
   ],
   "source": [
    "next_next_2000_text_features = model.transform(df['Headline'].sort_index()[2500:4500]) "
   ]
  },
  {
   "cell_type": "code",
   "execution_count": 38,
   "metadata": {
    "collapsed": true
   },
   "outputs": [],
   "source": [
    "freq_df = np.concatenate(( freq_df,next_next_2000_text_features[:, 2388]))"
   ]
  },
  {
   "cell_type": "code",
   "execution_count": 40,
   "metadata": {},
   "outputs": [
    {
     "name": "stdout",
     "output_type": "stream",
     "text": [
      "964.090 seconds to transform 2000 examples\n"
     ]
    }
   ],
   "source": [
    "from_4500_2000_text_features = model.transform(df['Headline'].sort_index()[4500:6500]) "
   ]
  },
  {
   "cell_type": "code",
   "execution_count": 41,
   "metadata": {
    "collapsed": true
   },
   "outputs": [],
   "source": [
    "freq_df = np.concatenate(( freq_df,from_4500_2000_text_features[:, 2388]))"
   ]
  },
  {
   "cell_type": "code",
   "execution_count": 42,
   "metadata": {},
   "outputs": [
    {
     "name": "stdout",
     "output_type": "stream",
     "text": [
      "680.912 seconds to transform 1500 examples\n"
     ]
    }
   ],
   "source": [
    "from_6500_2000_text_features = model.transform(df['Headline'].sort_index()[6500:8000]) "
   ]
  },
  {
   "cell_type": "code",
   "execution_count": 43,
   "metadata": {
    "collapsed": true
   },
   "outputs": [],
   "source": [
    "freq_df = np.concatenate(( freq_df,from_6500_2000_text_features[:, 2388]))"
   ]
  },
  {
   "cell_type": "code",
   "execution_count": 44,
   "metadata": {},
   "outputs": [
    {
     "data": {
      "text/plain": [
       "8000"
      ]
     },
     "execution_count": 44,
     "metadata": {},
     "output_type": "execute_result"
    }
   ],
   "source": [
    "len(freq_df)"
   ]
  },
  {
   "cell_type": "code",
   "execution_count": 45,
   "metadata": {
    "collapsed": true
   },
   "outputs": [],
   "source": [
    "df['freqeuency'] = freq_df"
   ]
  },
  {
   "cell_type": "code",
   "execution_count": 47,
   "metadata": {
    "collapsed": true
   },
   "outputs": [],
   "source": [
    "df.to_json(\"../Amazon_8000_newsSentiment.json\")"
   ]
  },
  {
   "cell_type": "code",
   "execution_count": null,
   "metadata": {
    "collapsed": true
   },
   "outputs": [],
   "source": []
  }
 ],
 "metadata": {
  "kernelspec": {
   "display_name": "Python 3",
   "language": "python",
   "name": "python3"
  },
  "language_info": {
   "codemirror_mode": {
    "name": "ipython",
    "version": 3
   },
   "file_extension": ".py",
   "mimetype": "text/x-python",
   "name": "python",
   "nbconvert_exporter": "python",
   "pygments_lexer": "ipython3",
<<<<<<< HEAD
   "version": "3.6.3"
=======
   "version": "3.6.4"
>>>>>>> 8de25f5586ef08e68488ead49c076c8afda73214
  }
 },
 "nbformat": 4,
 "nbformat_minor": 2
}
