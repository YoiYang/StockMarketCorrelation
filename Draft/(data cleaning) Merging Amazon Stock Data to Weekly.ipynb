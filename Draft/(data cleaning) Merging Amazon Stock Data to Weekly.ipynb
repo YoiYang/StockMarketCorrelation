{
 "cells": [
  {
   "cell_type": "code",
   "execution_count": 46,
   "metadata": {
    "collapsed": true
   },
   "outputs": [],
   "source": [
    "import pandas as pd\n",
    "df = pd.read_csv('AMZN2yr.csv')"
   ]
  },
  {
   "cell_type": "code",
   "execution_count": 47,
   "metadata": {
    "collapsed": true
   },
   "outputs": [],
   "source": [
    "# input: pandas dataframe that stores csv\n",
    "def weekNum(t):\n",
    "    if t.month == 12 and t.week == 1:\n",
    "        return t.week + (t.year + 1) * 100\n",
    "    elif t.month == 1 and t.week == 53:\n",
    "        return 1 + t.year*100\n",
    "    else:\n",
    "        return t.week + t.year * 100\n",
    "    \n",
    "def weeklyData(df):\n",
    "    data = pd.DataFrame()\n",
    "    \n",
    "    df['Timestamp'] = pd.to_datetime(df['Date']).apply(weekNum)\n",
    "    df['WeeklyAvg'] = df['Close']\n",
    "    df['WeeklyChangeAvg'] = df['Close'].diff()\n",
    "    data['WeeklyChangeTotal'] = df[1:].groupby(df.Timestamp).sum()['WeeklyChangeAvg']\n",
    "    data[['WeeklyAvg', 'WeeklyChangeAvg']] = df.groupby(df.Timestamp).mean()[['WeeklyAvg','WeeklyChangeAvg']]\n",
    "    \n",
    "    return data"
   ]
  },
  {
   "cell_type": "code",
   "execution_count": 48,
   "metadata": {
    "collapsed": true
   },
   "outputs": [],
   "source": [
    "data = weeklyData(df)\n",
    "data.to_json('AMZN2yrInWeeks.json')"
   ]
  },
  {
   "cell_type": "code",
   "execution_count": null,
   "metadata": {
    "collapsed": true
   },
   "outputs": [],
   "source": []
  }
 ],
 "metadata": {
  "kernelspec": {
   "display_name": "Python 3",
   "language": "python",
   "name": "python3"
  },
  "language_info": {
   "codemirror_mode": {
    "name": "ipython",
    "version": 3
   },
   "file_extension": ".py",
   "mimetype": "text/x-python",
   "name": "python",
   "nbconvert_exporter": "python",
   "pygments_lexer": "ipython3",
   "version": "3.6.4"
  }
 },
 "nbformat": 4,
 "nbformat_minor": 2
}
