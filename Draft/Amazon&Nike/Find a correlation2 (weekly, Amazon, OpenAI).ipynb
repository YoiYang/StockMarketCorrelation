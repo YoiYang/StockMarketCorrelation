{
 "cells": [
  {
   "cell_type": "code",
   "execution_count": 175,
   "metadata": {
    "collapsed": true
   },
   "outputs": [],
   "source": [
    "# this is using the positive/negative frequency data to find a correlation with the price change"
   ]
  },
  {
   "cell_type": "code",
   "execution_count": 176,
   "metadata": {
    "collapsed": true
   },
   "outputs": [],
   "source": [
    "import pandas as pd"
   ]
  },
  {
   "cell_type": "code",
   "execution_count": 177,
   "metadata": {
    "collapsed": true
   },
   "outputs": [],
   "source": [
    "# data date: 2018-1-09 ~ 2018-2-28\n",
    "freq_data = pd.read_json(\"Amazon_8000_newsSentiment.json\")"
   ]
  },
  {
   "cell_type": "code",
   "execution_count": 178,
   "metadata": {
    "collapsed": true
   },
   "outputs": [],
   "source": [
    "def weekNum(t):\n",
    "    if t.month == 12 and t.week == 1:\n",
    "        return t.week + (t.year + 1) * 100\n",
    "    elif t.month == 1 and t.week == 53:\n",
    "        return 1 + t.year*100\n",
    "    else:\n",
    "        return t.week + t.year * 100\n"
   ]
  },
  {
   "cell_type": "code",
   "execution_count": 179,
   "metadata": {
    "collapsed": true
   },
   "outputs": [],
   "source": [
    "freq_data['WeekNum'] = pd.to_datetime(freq_data['Date'])\n",
    "freq_data['WeekNum'] = freq_data['WeekNum'].apply(weekNum)"
   ]
  },
  {
   "cell_type": "code",
   "execution_count": 180,
   "metadata": {
    "collapsed": true
   },
   "outputs": [],
   "source": [
    "weekly_freq_data = freq_data.groupby(freq_data['WeekNum']).sum()\n",
    "weekly_freq_data['freqAvg'] = freq_data.groupby(freq_data['WeekNum']).mean()"
   ]
  },
  {
   "cell_type": "code",
   "execution_count": 181,
   "metadata": {
    "collapsed": true
   },
   "outputs": [],
   "source": [
    "weekly_price_data = pd.read_json(\"AMZN2yrInWeeks.json\")"
   ]
  },
  {
   "cell_type": "code",
   "execution_count": 182,
   "metadata": {
    "collapsed": true
   },
   "outputs": [],
   "source": [
    "weekly_price_data['WeekNum'] = weekly_price_data.index"
   ]
  },
  {
   "cell_type": "code",
   "execution_count": 183,
   "metadata": {
    "collapsed": true
   },
   "outputs": [],
   "source": [
    "dataNeeded = (weekly_price_data.join(weekly_freq_data))"
   ]
  },
  {
   "cell_type": "code",
   "execution_count": 184,
   "metadata": {
    "collapsed": true,
    "scrolled": true
   },
   "outputs": [],
   "source": [
    "dataNeeded.dropna(inplace=True)"
   ]
  },
  {
   "cell_type": "code",
   "execution_count": 185,
   "metadata": {
    "collapsed": true,
    "scrolled": true
   },
   "outputs": [],
   "source": [
    "dataNeeded['frequencyChange'] = dataNeeded['freqeuency'].diff()"
   ]
  },
  {
   "cell_type": "code",
   "execution_count": 218,
   "metadata": {
    "scrolled": true
   },
   "outputs": [
    {
     "data": {
      "text/html": [
       "<div>\n",
       "<style>\n",
       "    .dataframe thead tr:only-child th {\n",
       "        text-align: right;\n",
       "    }\n",
       "\n",
       "    .dataframe thead th {\n",
       "        text-align: left;\n",
       "    }\n",
       "\n",
       "    .dataframe tbody tr th {\n",
       "        vertical-align: top;\n",
       "    }\n",
       "</style>\n",
       "<table border=\"1\" class=\"dataframe\">\n",
       "  <thead>\n",
       "    <tr style=\"text-align: right;\">\n",
       "      <th></th>\n",
       "      <th>WeeklyAvg</th>\n",
       "      <th>WeeklyChangeAvg</th>\n",
       "      <th>WeeklyChangeTotal</th>\n",
       "      <th>WeekNum</th>\n",
       "      <th>freqeuency</th>\n",
       "      <th>freqAvg</th>\n",
       "      <th>frequencyChange</th>\n",
       "    </tr>\n",
       "  </thead>\n",
       "  <tbody>\n",
       "    <tr>\n",
       "      <th>201732</th>\n",
       "      <td>977.806006</td>\n",
       "      <td>-3.918005</td>\n",
       "      <td>-19.590027</td>\n",
       "      <td>201732</td>\n",
       "      <td>3.299143</td>\n",
       "      <td>0.033665</td>\n",
       "      <td>NaN</td>\n",
       "    </tr>\n",
       "    <tr>\n",
       "      <th>201733</th>\n",
       "      <td>972.651990</td>\n",
       "      <td>-1.904004</td>\n",
       "      <td>-9.520019</td>\n",
       "      <td>201733</td>\n",
       "      <td>8.918713</td>\n",
       "      <td>0.037007</td>\n",
       "      <td>5.619570</td>\n",
       "    </tr>\n",
       "    <tr>\n",
       "      <th>201734</th>\n",
       "      <td>955.180005</td>\n",
       "      <td>-2.641992</td>\n",
       "      <td>-13.209961</td>\n",
       "      <td>201734</td>\n",
       "      <td>13.436643</td>\n",
       "      <td>0.054620</td>\n",
       "      <td>4.517930</td>\n",
       "    </tr>\n",
       "    <tr>\n",
       "      <th>201735</th>\n",
       "      <td>965.304004</td>\n",
       "      <td>6.597998</td>\n",
       "      <td>32.989990</td>\n",
       "      <td>201735</td>\n",
       "      <td>1.536610</td>\n",
       "      <td>0.007388</td>\n",
       "      <td>-11.900032</td>\n",
       "    </tr>\n",
       "    <tr>\n",
       "      <th>201736</th>\n",
       "      <td>969.610001</td>\n",
       "      <td>-3.087494</td>\n",
       "      <td>-12.349976</td>\n",
       "      <td>201736</td>\n",
       "      <td>3.286108</td>\n",
       "      <td>0.019444</td>\n",
       "      <td>1.749498</td>\n",
       "    </tr>\n",
       "    <tr>\n",
       "      <th>201737</th>\n",
       "      <td>987.828003</td>\n",
       "      <td>4.177991</td>\n",
       "      <td>20.889954</td>\n",
       "      <td>201737</td>\n",
       "      <td>9.680972</td>\n",
       "      <td>0.044004</td>\n",
       "      <td>6.394864</td>\n",
       "    </tr>\n",
       "    <tr>\n",
       "      <th>201738</th>\n",
       "      <td>967.402002</td>\n",
       "      <td>-6.338000</td>\n",
       "      <td>-31.690002</td>\n",
       "      <td>201738</td>\n",
       "      <td>12.417300</td>\n",
       "      <td>0.056960</td>\n",
       "      <td>2.736328</td>\n",
       "    </tr>\n",
       "    <tr>\n",
       "      <th>201739</th>\n",
       "      <td>949.401990</td>\n",
       "      <td>1.250000</td>\n",
       "      <td>6.250000</td>\n",
       "      <td>201739</td>\n",
       "      <td>3.831885</td>\n",
       "      <td>0.015266</td>\n",
       "      <td>-8.585415</td>\n",
       "    </tr>\n",
       "    <tr>\n",
       "      <th>201740</th>\n",
       "      <td>970.433997</td>\n",
       "      <td>5.646008</td>\n",
       "      <td>28.230041</td>\n",
       "      <td>201740</td>\n",
       "      <td>8.315849</td>\n",
       "      <td>0.031029</td>\n",
       "      <td>4.483964</td>\n",
       "    </tr>\n",
       "    <tr>\n",
       "      <th>201741</th>\n",
       "      <td>995.411999</td>\n",
       "      <td>2.671997</td>\n",
       "      <td>13.359985</td>\n",
       "      <td>201741</td>\n",
       "      <td>11.089251</td>\n",
       "      <td>0.044535</td>\n",
       "      <td>2.773401</td>\n",
       "    </tr>\n",
       "    <tr>\n",
       "      <th>201742</th>\n",
       "      <td>996.397998</td>\n",
       "      <td>-4.006006</td>\n",
       "      <td>-20.030029</td>\n",
       "      <td>201742</td>\n",
       "      <td>15.740477</td>\n",
       "      <td>0.066416</td>\n",
       "      <td>4.651226</td>\n",
       "    </tr>\n",
       "    <tr>\n",
       "      <th>201743</th>\n",
       "      <td>997.697986</td>\n",
       "      <td>23.607996</td>\n",
       "      <td>118.039978</td>\n",
       "      <td>201743</td>\n",
       "      <td>14.210602</td>\n",
       "      <td>0.035795</td>\n",
       "      <td>-1.529874</td>\n",
       "    </tr>\n",
       "    <tr>\n",
       "      <th>201744</th>\n",
       "      <td>1105.126001</td>\n",
       "      <td>2.130005</td>\n",
       "      <td>10.650025</td>\n",
       "      <td>201744</td>\n",
       "      <td>11.846087</td>\n",
       "      <td>0.053121</td>\n",
       "      <td>-2.364516</td>\n",
       "    </tr>\n",
       "    <tr>\n",
       "      <th>201745</th>\n",
       "      <td>1126.238013</td>\n",
       "      <td>2.750000</td>\n",
       "      <td>13.750000</td>\n",
       "      <td>201745</td>\n",
       "      <td>11.392753</td>\n",
       "      <td>0.048896</td>\n",
       "      <td>-0.453334</td>\n",
       "    </tr>\n",
       "    <tr>\n",
       "      <th>201746</th>\n",
       "      <td>1131.973999</td>\n",
       "      <td>0.906006</td>\n",
       "      <td>4.530029</td>\n",
       "      <td>201746</td>\n",
       "      <td>15.716946</td>\n",
       "      <td>0.051029</td>\n",
       "      <td>4.324192</td>\n",
       "    </tr>\n",
       "    <tr>\n",
       "      <th>201747</th>\n",
       "      <td>1151.990021</td>\n",
       "      <td>14.029999</td>\n",
       "      <td>56.119995</td>\n",
       "      <td>201747</td>\n",
       "      <td>17.706011</td>\n",
       "      <td>0.064857</td>\n",
       "      <td>1.989066</td>\n",
       "    </tr>\n",
       "    <tr>\n",
       "      <th>201748</th>\n",
       "      <td>1177.959986</td>\n",
       "      <td>-4.730005</td>\n",
       "      <td>-23.650024</td>\n",
       "      <td>201748</td>\n",
       "      <td>21.312511</td>\n",
       "      <td>0.057138</td>\n",
       "      <td>3.606500</td>\n",
       "    </tr>\n",
       "    <tr>\n",
       "      <th>201749</th>\n",
       "      <td>1149.931982</td>\n",
       "      <td>-0.069995</td>\n",
       "      <td>-0.349976</td>\n",
       "      <td>201749</td>\n",
       "      <td>15.547769</td>\n",
       "      <td>0.057372</td>\n",
       "      <td>-5.764742</td>\n",
       "    </tr>\n",
       "    <tr>\n",
       "      <th>201750</th>\n",
       "      <td>1170.306006</td>\n",
       "      <td>3.428003</td>\n",
       "      <td>17.140015</td>\n",
       "      <td>201750</td>\n",
       "      <td>6.279003</td>\n",
       "      <td>0.026719</td>\n",
       "      <td>-9.268766</td>\n",
       "    </tr>\n",
       "    <tr>\n",
       "      <th>201751</th>\n",
       "      <td>1179.739990</td>\n",
       "      <td>-2.156006</td>\n",
       "      <td>-10.780030</td>\n",
       "      <td>201751</td>\n",
       "      <td>8.599499</td>\n",
       "      <td>0.044100</td>\n",
       "      <td>2.320495</td>\n",
       "    </tr>\n",
       "    <tr>\n",
       "      <th>201752</th>\n",
       "      <td>1178.647492</td>\n",
       "      <td>0.277496</td>\n",
       "      <td>1.109986</td>\n",
       "      <td>201752</td>\n",
       "      <td>3.553917</td>\n",
       "      <td>0.019420</td>\n",
       "      <td>-5.045582</td>\n",
       "    </tr>\n",
       "    <tr>\n",
       "      <th>201801</th>\n",
       "      <td>1207.984985</td>\n",
       "      <td>14.917511</td>\n",
       "      <td>59.670044</td>\n",
       "      <td>201801</td>\n",
       "      <td>10.422512</td>\n",
       "      <td>0.053449</td>\n",
       "      <td>6.868595</td>\n",
       "    </tr>\n",
       "    <tr>\n",
       "      <th>201802</th>\n",
       "      <td>1267.155981</td>\n",
       "      <td>15.211987</td>\n",
       "      <td>76.059936</td>\n",
       "      <td>201802</td>\n",
       "      <td>9.144140</td>\n",
       "      <td>0.034506</td>\n",
       "      <td>-1.278372</td>\n",
       "    </tr>\n",
       "    <tr>\n",
       "      <th>201803</th>\n",
       "      <td>1296.939972</td>\n",
       "      <td>-2.654999</td>\n",
       "      <td>-10.619995</td>\n",
       "      <td>201803</td>\n",
       "      <td>11.266950</td>\n",
       "      <td>0.046946</td>\n",
       "      <td>2.122810</td>\n",
       "    </tr>\n",
       "    <tr>\n",
       "      <th>201804</th>\n",
       "      <td>1365.472022</td>\n",
       "      <td>21.494019</td>\n",
       "      <td>107.470093</td>\n",
       "      <td>201804</td>\n",
       "      <td>0.990443</td>\n",
       "      <td>0.003780</td>\n",
       "      <td>-10.276507</td>\n",
       "    </tr>\n",
       "    <tr>\n",
       "      <th>201805</th>\n",
       "      <td>1425.267993</td>\n",
       "      <td>5.579980</td>\n",
       "      <td>27.899902</td>\n",
       "      <td>201805</td>\n",
       "      <td>9.946311</td>\n",
       "      <td>0.022452</td>\n",
       "      <td>8.955868</td>\n",
       "    </tr>\n",
       "    <tr>\n",
       "      <th>201806</th>\n",
       "      <td>1387.943994</td>\n",
       "      <td>-18.069995</td>\n",
       "      <td>-90.349975</td>\n",
       "      <td>201806</td>\n",
       "      <td>6.687606</td>\n",
       "      <td>0.026123</td>\n",
       "      <td>-3.258705</td>\n",
       "    </tr>\n",
       "    <tr>\n",
       "      <th>201807</th>\n",
       "      <td>1432.447998</td>\n",
       "      <td>21.817993</td>\n",
       "      <td>109.089965</td>\n",
       "      <td>201807</td>\n",
       "      <td>0.337753</td>\n",
       "      <td>0.001488</td>\n",
       "      <td>-6.349853</td>\n",
       "    </tr>\n",
       "    <tr>\n",
       "      <th>201808</th>\n",
       "      <td>1484.152497</td>\n",
       "      <td>12.827515</td>\n",
       "      <td>51.310059</td>\n",
       "      <td>201808</td>\n",
       "      <td>5.706584</td>\n",
       "      <td>0.025590</td>\n",
       "      <td>5.368831</td>\n",
       "    </tr>\n",
       "    <tr>\n",
       "      <th>201809</th>\n",
       "      <td>1508.015967</td>\n",
       "      <td>0.050000</td>\n",
       "      <td>0.250000</td>\n",
       "      <td>201809</td>\n",
       "      <td>10.975078</td>\n",
       "      <td>0.040952</td>\n",
       "      <td>5.268494</td>\n",
       "    </tr>\n",
       "    <tr>\n",
       "      <th>201810</th>\n",
       "      <td>1547.400000</td>\n",
       "      <td>15.728003</td>\n",
       "      <td>78.640015</td>\n",
       "      <td>201810</td>\n",
       "      <td>16.255382</td>\n",
       "      <td>0.060654</td>\n",
       "      <td>5.280304</td>\n",
       "    </tr>\n",
       "    <tr>\n",
       "      <th>201811</th>\n",
       "      <td>1586.314014</td>\n",
       "      <td>-1.441992</td>\n",
       "      <td>-7.209961</td>\n",
       "      <td>201811</td>\n",
       "      <td>3.863880</td>\n",
       "      <td>0.015035</td>\n",
       "      <td>-12.391502</td>\n",
       "    </tr>\n",
       "  </tbody>\n",
       "</table>\n",
       "</div>"
      ],
      "text/plain": [
       "          WeeklyAvg  WeeklyChangeAvg  WeeklyChangeTotal  WeekNum  freqeuency  \\\n",
       "201732   977.806006        -3.918005         -19.590027   201732    3.299143   \n",
       "201733   972.651990        -1.904004          -9.520019   201733    8.918713   \n",
       "201734   955.180005        -2.641992         -13.209961   201734   13.436643   \n",
       "201735   965.304004         6.597998          32.989990   201735    1.536610   \n",
       "201736   969.610001        -3.087494         -12.349976   201736    3.286108   \n",
       "201737   987.828003         4.177991          20.889954   201737    9.680972   \n",
       "201738   967.402002        -6.338000         -31.690002   201738   12.417300   \n",
       "201739   949.401990         1.250000           6.250000   201739    3.831885   \n",
       "201740   970.433997         5.646008          28.230041   201740    8.315849   \n",
       "201741   995.411999         2.671997          13.359985   201741   11.089251   \n",
       "201742   996.397998        -4.006006         -20.030029   201742   15.740477   \n",
       "201743   997.697986        23.607996         118.039978   201743   14.210602   \n",
       "201744  1105.126001         2.130005          10.650025   201744   11.846087   \n",
       "201745  1126.238013         2.750000          13.750000   201745   11.392753   \n",
       "201746  1131.973999         0.906006           4.530029   201746   15.716946   \n",
       "201747  1151.990021        14.029999          56.119995   201747   17.706011   \n",
       "201748  1177.959986        -4.730005         -23.650024   201748   21.312511   \n",
       "201749  1149.931982        -0.069995          -0.349976   201749   15.547769   \n",
       "201750  1170.306006         3.428003          17.140015   201750    6.279003   \n",
       "201751  1179.739990        -2.156006         -10.780030   201751    8.599499   \n",
       "201752  1178.647492         0.277496           1.109986   201752    3.553917   \n",
       "201801  1207.984985        14.917511          59.670044   201801   10.422512   \n",
       "201802  1267.155981        15.211987          76.059936   201802    9.144140   \n",
       "201803  1296.939972        -2.654999         -10.619995   201803   11.266950   \n",
       "201804  1365.472022        21.494019         107.470093   201804    0.990443   \n",
       "201805  1425.267993         5.579980          27.899902   201805    9.946311   \n",
       "201806  1387.943994       -18.069995         -90.349975   201806    6.687606   \n",
       "201807  1432.447998        21.817993         109.089965   201807    0.337753   \n",
       "201808  1484.152497        12.827515          51.310059   201808    5.706584   \n",
       "201809  1508.015967         0.050000           0.250000   201809   10.975078   \n",
       "201810  1547.400000        15.728003          78.640015   201810   16.255382   \n",
       "201811  1586.314014        -1.441992          -7.209961   201811    3.863880   \n",
       "\n",
       "         freqAvg  frequencyChange  \n",
       "201732  0.033665              NaN  \n",
       "201733  0.037007         5.619570  \n",
       "201734  0.054620         4.517930  \n",
       "201735  0.007388       -11.900032  \n",
       "201736  0.019444         1.749498  \n",
       "201737  0.044004         6.394864  \n",
       "201738  0.056960         2.736328  \n",
       "201739  0.015266        -8.585415  \n",
       "201740  0.031029         4.483964  \n",
       "201741  0.044535         2.773401  \n",
       "201742  0.066416         4.651226  \n",
       "201743  0.035795        -1.529874  \n",
       "201744  0.053121        -2.364516  \n",
       "201745  0.048896        -0.453334  \n",
       "201746  0.051029         4.324192  \n",
       "201747  0.064857         1.989066  \n",
       "201748  0.057138         3.606500  \n",
       "201749  0.057372        -5.764742  \n",
       "201750  0.026719        -9.268766  \n",
       "201751  0.044100         2.320495  \n",
       "201752  0.019420        -5.045582  \n",
       "201801  0.053449         6.868595  \n",
       "201802  0.034506        -1.278372  \n",
       "201803  0.046946         2.122810  \n",
       "201804  0.003780       -10.276507  \n",
       "201805  0.022452         8.955868  \n",
       "201806  0.026123        -3.258705  \n",
       "201807  0.001488        -6.349853  \n",
       "201808  0.025590         5.368831  \n",
       "201809  0.040952         5.268494  \n",
       "201810  0.060654         5.280304  \n",
       "201811  0.015035       -12.391502  "
      ]
     },
     "execution_count": 218,
     "metadata": {},
     "output_type": "execute_result"
    }
   ],
   "source": [
    "#df = freq_data['FreqNum'].loc[::-1]\n",
    "#df.index = range(len(dataNeeded))\n",
    "#string(dataNeeded['Date'].iloc[0])\n",
    "#price_data.merge(freq_data,on='Date')\n",
    "dataNeeded"
   ]
  },
  {
   "cell_type": "code",
   "execution_count": 187,
   "metadata": {
    "collapsed": true
   },
   "outputs": [],
   "source": [
    "import matplotlib.pyplot as plt\n",
    "%matplotlib inline\n",
    "%config InlineBackend.figure_format = 'retina'"
   ]
  },
  {
   "cell_type": "code",
   "execution_count": 188,
   "metadata": {},
   "outputs": [
    {
     "data": {
      "text/html": [
       "<div>\n",
       "<style>\n",
       "    .dataframe thead tr:only-child th {\n",
       "        text-align: right;\n",
       "    }\n",
       "\n",
       "    .dataframe thead th {\n",
       "        text-align: left;\n",
       "    }\n",
       "\n",
       "    .dataframe tbody tr th {\n",
       "        vertical-align: top;\n",
       "    }\n",
       "</style>\n",
       "<table border=\"1\" class=\"dataframe\">\n",
       "  <thead>\n",
       "    <tr style=\"text-align: right;\">\n",
       "      <th></th>\n",
       "      <th>WeeklyAvg</th>\n",
       "      <th>WeeklyChangeAvg</th>\n",
       "      <th>WeeklyChangeTotal</th>\n",
       "      <th>WeekNum</th>\n",
       "      <th>freqeuency</th>\n",
       "      <th>freqAvg</th>\n",
       "      <th>frequencyChange</th>\n",
       "    </tr>\n",
       "  </thead>\n",
       "  <tbody>\n",
       "    <tr>\n",
       "      <th>WeeklyAvg</th>\n",
       "      <td>1.000000</td>\n",
       "      <td>0.235206</td>\n",
       "      <td>0.226668</td>\n",
       "      <td>0.926180</td>\n",
       "      <td>-0.107341</td>\n",
       "      <td>-0.219815</td>\n",
       "      <td>-0.084229</td>\n",
       "    </tr>\n",
       "    <tr>\n",
       "      <th>WeeklyChangeAvg</th>\n",
       "      <td>0.235206</td>\n",
       "      <td>1.000000</td>\n",
       "      <td>0.996188</td>\n",
       "      <td>0.308937</td>\n",
       "      <td>-0.100403</td>\n",
       "      <td>-0.215994</td>\n",
       "      <td>-0.097343</td>\n",
       "    </tr>\n",
       "    <tr>\n",
       "      <th>WeeklyChangeTotal</th>\n",
       "      <td>0.226668</td>\n",
       "      <td>0.996188</td>\n",
       "      <td>1.000000</td>\n",
       "      <td>0.299109</td>\n",
       "      <td>-0.116277</td>\n",
       "      <td>-0.242194</td>\n",
       "      <td>-0.123106</td>\n",
       "    </tr>\n",
       "    <tr>\n",
       "      <th>WeekNum</th>\n",
       "      <td>0.926180</td>\n",
       "      <td>0.308937</td>\n",
       "      <td>0.299109</td>\n",
       "      <td>1.000000</td>\n",
       "      <td>-0.188389</td>\n",
       "      <td>-0.271323</td>\n",
       "      <td>-0.032410</td>\n",
       "    </tr>\n",
       "    <tr>\n",
       "      <th>freqeuency</th>\n",
       "      <td>-0.107341</td>\n",
       "      <td>-0.100403</td>\n",
       "      <td>-0.116277</td>\n",
       "      <td>-0.188389</td>\n",
       "      <td>1.000000</td>\n",
       "      <td>0.900076</td>\n",
       "      <td>0.571843</td>\n",
       "    </tr>\n",
       "    <tr>\n",
       "      <th>freqAvg</th>\n",
       "      <td>-0.219815</td>\n",
       "      <td>-0.215994</td>\n",
       "      <td>-0.242194</td>\n",
       "      <td>-0.271323</td>\n",
       "      <td>0.900076</td>\n",
       "      <td>1.000000</td>\n",
       "      <td>0.601605</td>\n",
       "    </tr>\n",
       "    <tr>\n",
       "      <th>frequencyChange</th>\n",
       "      <td>-0.084229</td>\n",
       "      <td>-0.097343</td>\n",
       "      <td>-0.123106</td>\n",
       "      <td>-0.032410</td>\n",
       "      <td>0.571843</td>\n",
       "      <td>0.601605</td>\n",
       "      <td>1.000000</td>\n",
       "    </tr>\n",
       "  </tbody>\n",
       "</table>\n",
       "</div>"
      ],
      "text/plain": [
       "                   WeeklyAvg  WeeklyChangeAvg  WeeklyChangeTotal   WeekNum  \\\n",
       "WeeklyAvg           1.000000         0.235206           0.226668  0.926180   \n",
       "WeeklyChangeAvg     0.235206         1.000000           0.996188  0.308937   \n",
       "WeeklyChangeTotal   0.226668         0.996188           1.000000  0.299109   \n",
       "WeekNum             0.926180         0.308937           0.299109  1.000000   \n",
       "freqeuency         -0.107341        -0.100403          -0.116277 -0.188389   \n",
       "freqAvg            -0.219815        -0.215994          -0.242194 -0.271323   \n",
       "frequencyChange    -0.084229        -0.097343          -0.123106 -0.032410   \n",
       "\n",
       "                   freqeuency   freqAvg  frequencyChange  \n",
       "WeeklyAvg           -0.107341 -0.219815        -0.084229  \n",
       "WeeklyChangeAvg     -0.100403 -0.215994        -0.097343  \n",
       "WeeklyChangeTotal   -0.116277 -0.242194        -0.123106  \n",
       "WeekNum             -0.188389 -0.271323        -0.032410  \n",
       "freqeuency           1.000000  0.900076         0.571843  \n",
       "freqAvg              0.900076  1.000000         0.601605  \n",
       "frequencyChange      0.571843  0.601605         1.000000  "
      ]
     },
     "execution_count": 188,
     "metadata": {},
     "output_type": "execute_result"
    }
   ],
   "source": [
    "# we can see a little cluster there, which is what we wanted, im not sure\n",
    "# if it's convincing enough\n",
    "dataNeeded.corr()"
   ]
  },
  {
   "cell_type": "code",
   "execution_count": 189,
   "metadata": {
    "collapsed": true
   },
   "outputs": [],
   "source": [
    "from scipy.stats import pearsonr"
   ]
  },
  {
   "cell_type": "code",
   "execution_count": 190,
   "metadata": {
    "collapsed": true
   },
   "outputs": [],
   "source": [
    "# trying our other correlations:"
   ]
  },
  {
   "cell_type": "code",
   "execution_count": 191,
   "metadata": {},
   "outputs": [
    {
     "name": "stdout",
     "output_type": "stream",
     "text": [
      "WeeklyChangeAvg vs. frequency correlated (same week): -0.1004026385734069\n",
      "p val 0.5845498597344403\n"
     ]
    }
   ],
   "source": [
    "stat, pval = pearsonr(dataNeeded['WeeklyChangeAvg'],dataNeeded['freqeuency'])\n",
    "print(\"WeeklyChangeAvg vs. frequency correlated (same week):\", stat)\n",
    "print('p val', pval)"
   ]
  },
  {
   "cell_type": "code",
   "execution_count": 192,
   "metadata": {},
   "outputs": [
    {
     "name": "stdout",
     "output_type": "stream",
     "text": [
      "WeeklyChangeTotal vs. frequency correlated (same week): -0.11627721670159231\n",
      "p val 0.5262446564744571\n"
     ]
    }
   ],
   "source": [
    "stat, pval = pearsonr(dataNeeded['WeeklyChangeTotal'],dataNeeded['freqeuency'])\n",
    "print(\"WeeklyChangeTotal vs. frequency correlated (same week):\", stat)\n",
    "print('p val', pval)"
   ]
  },
  {
   "cell_type": "code",
   "execution_count": 193,
   "metadata": {},
   "outputs": [
    {
     "name": "stdout",
     "output_type": "stream",
     "text": [
      "WeeklyAvg vs. frequency correlated (same week): -0.10734117731521481\n",
      "p val 0.5587168258488626\n"
     ]
    }
   ],
   "source": [
    "stat, pval = pearsonr(dataNeeded['WeeklyAvg'],dataNeeded['freqeuency'])\n",
    "print(\"WeeklyAvg vs. frequency correlated (same week):\", stat)\n",
    "print('p val', pval)"
   ]
  },
  {
   "cell_type": "code",
   "execution_count": 194,
   "metadata": {},
   "outputs": [
    {
     "name": "stdout",
     "output_type": "stream",
     "text": [
      "WeeklyChangeAvg vs. freqAvg correlated (same week): -0.21599376899360792\n",
      "p val 0.2351047757308214\n"
     ]
    }
   ],
   "source": [
    "stat, pval = pearsonr(dataNeeded['WeeklyChangeAvg'],dataNeeded['freqAvg'])\n",
    "print(\"WeeklyChangeAvg vs. freqAvg correlated (same week):\", stat)\n",
    "print('p val', pval)"
   ]
  },
  {
   "cell_type": "code",
   "execution_count": 195,
   "metadata": {},
   "outputs": [
    {
     "name": "stdout",
     "output_type": "stream",
     "text": [
      "WeeklyChangeTotal vs. freqAvg correlated (same week): -0.24219351372447817\n",
      "p val 0.18170333891873144\n"
     ]
    }
   ],
   "source": [
    "stat, pval = pearsonr(dataNeeded['WeeklyChangeTotal'],dataNeeded['freqAvg'])\n",
    "print(\"WeeklyChangeTotal vs. freqAvg correlated (same week):\", stat)\n",
    "print('p val', pval)"
   ]
  },
  {
   "cell_type": "code",
   "execution_count": 196,
   "metadata": {},
   "outputs": [
    {
     "name": "stdout",
     "output_type": "stream",
     "text": [
      "WeeklyAvg vs. frequency freqAvg (same week): -0.21981528945576947\n",
      "p val 0.22672286644566586\n"
     ]
    }
   ],
   "source": [
    "stat, pval = pearsonr(dataNeeded['WeeklyAvg'],dataNeeded['freqAvg'])\n",
    "print(\"WeeklyAvg vs. frequency freqAvg (same week):\", stat)\n",
    "print('p val', pval)"
   ]
  },
  {
   "cell_type": "code",
   "execution_count": 197,
   "metadata": {},
   "outputs": [
    {
     "name": "stdout",
     "output_type": "stream",
     "text": [
      "WeeklyChangeAvg vs. frequency change correlated (same week): -0.09734311257579537\n",
      "p val 0.6024008316414863\n"
     ]
    }
   ],
   "source": [
    "stat, pval = pearsonr(dataNeeded['WeeklyChangeAvg'][1:],dataNeeded['frequencyChange'][1:])\n",
    "print(\"WeeklyChangeAvg vs. frequency change correlated (same week):\", stat)\n",
    "print('p val', pval)"
   ]
  },
  {
   "cell_type": "code",
   "execution_count": 198,
   "metadata": {},
   "outputs": [
    {
     "name": "stdout",
     "output_type": "stream",
     "text": [
      "WeeklyChangeAvg vs. frequency change correlated (same week): -0.1231062098243755\n",
      "p val 0.5093975405946004\n"
     ]
    }
   ],
   "source": [
    "stat, pval = pearsonr(dataNeeded['WeeklyChangeTotal'][1:],dataNeeded['frequencyChange'][1:])\n",
    "print(\"WeeklyChangeAvg vs. frequency change correlated (same week):\", stat)\n",
    "print('p val', pval)"
   ]
  },
  {
   "cell_type": "code",
   "execution_count": 199,
   "metadata": {},
   "outputs": [
    {
     "name": "stdout",
     "output_type": "stream",
     "text": [
      "WeeklyAvg vs. frequency change correlated (same week): -0.08422930879641621\n",
      "p val 0.6523506326518561\n"
     ]
    }
   ],
   "source": [
    "stat, pval = pearsonr(dataNeeded['WeeklyAvg'][1:],dataNeeded['frequencyChange'][1:])\n",
    "print(\"WeeklyAvg vs. frequency change correlated (same week):\", stat)\n",
    "print('p val', pval)"
   ]
  },
  {
   "cell_type": "code",
   "execution_count": 200,
   "metadata": {},
   "outputs": [
    {
     "name": "stdout",
     "output_type": "stream",
     "text": [
      "WeeklyChangeAvg vs. last week's frequency correlated (same week): -0.025683395694227344\n",
      "p val 0.8909161501625062\n"
     ]
    }
   ],
   "source": [
    "stat, pval = pearsonr(dataNeeded['WeeklyChangeAvg'][1:],dataNeeded['freqeuency'][:-1])\n",
    "print(\"WeeklyChangeAvg vs. last week's frequency correlated (same week):\", stat)\n",
    "print('p val', pval)"
   ]
  },
  {
   "cell_type": "code",
   "execution_count": 201,
   "metadata": {},
   "outputs": [
    {
     "name": "stdout",
     "output_type": "stream",
     "text": [
      "WeeklyChangeTotal vs. last week's frequency correlated (same week): -0.012583335264622719\n",
      "p val 0.9464348560578075\n"
     ]
    }
   ],
   "source": [
    "stat, pval = pearsonr(dataNeeded['WeeklyChangeTotal'][1:],dataNeeded['freqeuency'][:-1])\n",
    "print(\"WeeklyChangeTotal vs. last week's frequency correlated (same week):\", stat)\n",
    "print('p val', pval)"
   ]
  },
  {
   "cell_type": "code",
   "execution_count": 202,
   "metadata": {},
   "outputs": [
    {
     "name": "stdout",
     "output_type": "stream",
     "text": [
      "WeeklyAvg vs. last week's frequency correlated (same week): -0.05445902764204997\n",
      "p val 0.7710738345886118\n"
     ]
    }
   ],
   "source": [
    "stat, pval = pearsonr(dataNeeded['WeeklyAvg'][1:],dataNeeded['freqeuency'][:-1])\n",
    "print(\"WeeklyAvg vs. last week's frequency correlated (same week):\", stat)\n",
    "print('p val', pval)"
   ]
  },
  {
   "cell_type": "code",
   "execution_count": 203,
   "metadata": {},
   "outputs": [
    {
     "name": "stdout",
     "output_type": "stream",
     "text": [
      "WeeklyChangeAvg vs. last week's freqAvg correlated (same week): 0.0635035155510187\n",
      "p val 0.7343192398779466\n"
     ]
    }
   ],
   "source": [
    "stat, pval = pearsonr(dataNeeded['WeeklyChangeAvg'][1:],dataNeeded['freqAvg'][:-1])\n",
    "print(\"WeeklyChangeAvg vs. last week's freqAvg correlated (same week):\", stat)\n",
    "print('p val', pval)"
   ]
  },
  {
   "cell_type": "code",
   "execution_count": 204,
   "metadata": {},
   "outputs": [
    {
     "name": "stdout",
     "output_type": "stream",
     "text": [
      "WeeklyChangeTotal vs. last week's freqAvg correlated (same week): 0.08444236395555245\n",
      "p val 0.651526421841905\n"
     ]
    }
   ],
   "source": [
    "stat, pval = pearsonr(dataNeeded['WeeklyChangeTotal'][1:],dataNeeded['freqAvg'][:-1])\n",
    "print(\"WeeklyChangeTotal vs. last week's freqAvg correlated (same week):\", stat)\n",
    "print('p val', pval)"
   ]
  },
  {
   "cell_type": "code",
   "execution_count": 205,
   "metadata": {},
   "outputs": [
    {
     "name": "stdout",
     "output_type": "stream",
     "text": [
      "WeeklyAvg vs. last week's freqAvg correlated (same week): -0.16816620863902684\n",
      "p val 0.36583813630935946\n"
     ]
    }
   ],
   "source": [
    "stat, pval = pearsonr(dataNeeded['WeeklyAvg'][1:],dataNeeded['freqAvg'][:-1])\n",
    "print(\"WeeklyAvg vs. last week's freqAvg correlated (same week):\", stat)\n",
    "print('p val', pval)"
   ]
  },
  {
   "cell_type": "code",
   "execution_count": 206,
   "metadata": {},
   "outputs": [
    {
     "name": "stdout",
     "output_type": "stream",
     "text": [
      "WeeklyChangeAvg vs. last week's frequencyChange correlated (same week): -0.0955136031036498\n",
      "p val 0.615617903563229\n"
     ]
    }
   ],
   "source": [
    "stat, pval = pearsonr(dataNeeded['WeeklyChangeAvg'][2:],dataNeeded['frequencyChange'][1:-1])\n",
    "print(\"WeeklyChangeAvg vs. last week's frequencyChange correlated (same week):\", stat)\n",
    "print('p val', pval)"
   ]
  },
  {
   "cell_type": "code",
   "execution_count": 207,
   "metadata": {},
   "outputs": [
    {
     "name": "stdout",
     "output_type": "stream",
     "text": [
      "WeeklyChangeTotal vs. last week's frequencyChange correlated (same week): -0.08908138861019864\n",
      "p val 0.6396995034060571\n"
     ]
    }
   ],
   "source": [
    "stat, pval = pearsonr(dataNeeded['WeeklyChangeTotal'][2:],dataNeeded['frequencyChange'][1:-1])\n",
    "print(\"WeeklyChangeTotal vs. last week's frequencyChange correlated (same week):\", stat)\n",
    "print('p val', pval)"
   ]
  },
  {
   "cell_type": "code",
   "execution_count": 208,
   "metadata": {},
   "outputs": [
    {
     "name": "stdout",
     "output_type": "stream",
     "text": [
      "WeeklyAvg vs. last week's frequencyChange correlated (same week): 0.020513008191637587\n",
      "p val 0.9143198513095646\n"
     ]
    }
   ],
   "source": [
    "stat, pval = pearsonr(dataNeeded['WeeklyAvg'][2:],dataNeeded['frequencyChange'][1:-1])\n",
    "print(\"WeeklyAvg vs. last week's frequencyChange correlated (same week):\", stat)\n",
    "print('p val', pval)"
   ]
  },
  {
   "cell_type": "code",
   "execution_count": 209,
   "metadata": {},
   "outputs": [
    {
     "name": "stdout",
     "output_type": "stream",
     "text": [
      "last week's WeeklyChangeAvg vs. frequency correlated (same week): 0.19474846341530572\n",
      "p val 0.2937878196353557\n"
     ]
    }
   ],
   "source": [
    "stat, pval = pearsonr(dataNeeded['WeeklyChangeAvg'][:-1],dataNeeded['freqeuency'][1:])\n",
    "print(\"last week's WeeklyChangeAvg vs. frequency correlated (same week):\", stat)\n",
    "print('p val', pval)"
   ]
  },
  {
   "cell_type": "code",
   "execution_count": 210,
   "metadata": {},
   "outputs": [
    {
     "name": "stdout",
     "output_type": "stream",
     "text": [
      "last week's WeeklyChangeTotal vs. frequency correlated (same week): 0.17363593205919745\n",
      "p val 0.3502222713808888\n"
     ]
    }
   ],
   "source": [
    "stat, pval = pearsonr(dataNeeded['WeeklyChangeTotal'][:-1],dataNeeded['freqeuency'][1:])\n",
    "print(\"last week's WeeklyChangeTotal vs. frequency correlated (same week):\", stat)\n",
    "print('p val', pval)"
   ]
  },
  {
   "cell_type": "code",
   "execution_count": 211,
   "metadata": {
    "scrolled": true
   },
   "outputs": [
    {
     "name": "stdout",
     "output_type": "stream",
     "text": [
      "last week's WeeklyAvg vs. frequency correlated (same week): -0.14197405965871435\n",
      "p val 0.44614022083030336\n"
     ]
    }
   ],
   "source": [
    "stat, pval = pearsonr(dataNeeded['WeeklyAvg'][:-1],dataNeeded['freqeuency'][1:])\n",
    "print(\"last week's WeeklyAvg vs. frequency correlated (same week):\", stat)\n",
    "print('p val', pval)"
   ]
  },
  {
   "cell_type": "code",
   "execution_count": 212,
   "metadata": {},
   "outputs": [
    {
     "name": "stdout",
     "output_type": "stream",
     "text": [
      "last week's WeeklyChangeAvg vs. freqAvg correlated (same week): 0.15702054608786697\n",
      "p val 0.3989054515753587\n"
     ]
    }
   ],
   "source": [
    "stat, pval = pearsonr(dataNeeded['WeeklyChangeAvg'][:-1],dataNeeded['freqAvg'][1:])\n",
    "print(\"last week's WeeklyChangeAvg vs. freqAvg correlated (same week):\", stat)\n",
    "print('p val', pval)"
   ]
  },
  {
   "cell_type": "code",
   "execution_count": 213,
   "metadata": {},
   "outputs": [
    {
     "name": "stdout",
     "output_type": "stream",
     "text": [
      "last week's WeeklyChangeTotal vs. freqAvg correlated (same week): 0.14833788237773834\n",
      "p val 0.42580493881744086\n"
     ]
    }
   ],
   "source": [
    "stat, pval = pearsonr(dataNeeded['WeeklyChangeTotal'][:-1],dataNeeded['freqAvg'][1:])\n",
    "print(\"last week's WeeklyChangeTotal vs. freqAvg correlated (same week):\", stat)\n",
    "print('p val', pval)"
   ]
  },
  {
   "cell_type": "code",
   "execution_count": 214,
   "metadata": {},
   "outputs": [
    {
     "name": "stdout",
     "output_type": "stream",
     "text": [
      "last week's WeeklyAvg vs. freqAvg correlated (same week): -0.22074866819568298\n",
      "p val 0.23272868227336624\n"
     ]
    }
   ],
   "source": [
    "stat, pval = pearsonr(dataNeeded['WeeklyAvg'][:-1],dataNeeded['freqAvg'][1:])\n",
    "print(\"last week's WeeklyAvg vs. freqAvg correlated (same week):\", stat)\n",
    "print('p val', pval)"
   ]
  },
  {
   "cell_type": "code",
   "execution_count": 215,
   "metadata": {},
   "outputs": [
    {
     "name": "stdout",
     "output_type": "stream",
     "text": [
      "last week's WeeklyChangeTotal vs. frequencyChange correlated (same week): 0.3082172997103365\n",
      "p val 0.09750637810889752\n"
     ]
    }
   ],
   "source": [
    "###################################################\n",
    "stat, pval = pearsonr(dataNeeded['WeeklyChangeTotal'][1:-1],dataNeeded['frequencyChange'][2:])\n",
    "print(\"last week's WeeklyChangeTotal vs. frequencyChange correlated (same week):\", stat)\n",
    "print('p val', pval)"
   ]
  },
  {
   "cell_type": "code",
   "execution_count": 216,
   "metadata": {
    "scrolled": true
   },
   "outputs": [
    {
     "name": "stdout",
     "output_type": "stream",
     "text": [
      "last week's WeeklyChangeAvg vs. frequencyChange correlated: 0.31269539547138675\n",
      "p val 0.09248817606862446\n"
     ]
    }
   ],
   "source": [
    "###################################################\n",
    "stat, pval = pearsonr(dataNeeded['WeeklyChangeAvg'][1:-1],dataNeeded['frequencyChange'][2:])\n",
    "print(\"last week's WeeklyChangeAvg vs. frequencyChange correlated:\", stat)\n",
    "print('p val', pval)"
   ]
  },
  {
   "cell_type": "code",
   "execution_count": 217,
   "metadata": {},
   "outputs": [
    {
     "name": "stdout",
     "output_type": "stream",
     "text": [
      "last week's WeeklyAvg vs. frequencyChange correlated (same week): -0.061110665513852726\n",
      "p val 0.7483663285694613\n"
     ]
    }
   ],
   "source": [
    "stat, pval = pearsonr(dataNeeded['WeeklyAvg'][1:-1],dataNeeded['frequencyChange'][2:])\n",
    "print(\"last week's WeeklyAvg vs. frequencyChange correlated (same week):\", stat)\n",
    "print('p val', pval)"
   ]
  },
  {
   "cell_type": "code",
   "execution_count": null,
   "metadata": {
    "collapsed": true
   },
   "outputs": [],
   "source": []
  },
  {
   "cell_type": "code",
   "execution_count": null,
   "metadata": {
    "collapsed": true
   },
   "outputs": [],
   "source": []
  }
 ],
 "metadata": {
  "kernelspec": {
   "display_name": "Python 3",
   "language": "python",
   "name": "python3"
  },
  "language_info": {
   "codemirror_mode": {
    "name": "ipython",
    "version": 3
   },
   "file_extension": ".py",
   "mimetype": "text/x-python",
   "name": "python",
   "nbconvert_exporter": "python",
   "pygments_lexer": "ipython3",
   "version": "3.6.2"
  }
 },
 "nbformat": 4,
 "nbformat_minor": 2
}
